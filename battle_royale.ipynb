{
 "cells": [
  {
   "cell_type": "code",
   "execution_count": 1,
   "metadata": {},
   "outputs": [],
   "source": [
    "import matplotlib.pyplot as plt\n",
    "plt.style.use('seaborn-muted')\n",
    "plt.rcParams['axes.spines.top'] = False\n",
    "plt.rcParams['axes.spines.right'] = False\n",
    "plt.rcParams['axes.grid'] = False\n",
    "%matplotlib inline"
   ]
  },
  {
   "cell_type": "code",
   "execution_count": 2,
   "metadata": {},
   "outputs": [],
   "source": [
    "from mectools.endy import random_vec\n",
    "from mectools.data import noinf, lag_merge"
   ]
  },
  {
   "cell_type": "code",
   "execution_count": 3,
   "metadata": {},
   "outputs": [],
   "source": [
    "import battle_royale as br"
   ]
  },
  {
   "cell_type": "code",
   "execution_count": 4,
   "metadata": {},
   "outputs": [
    {
     "name": "stdout",
     "output_type": "stream",
     "text": [
      "-0.43298582 -0.02429261 -0.09934759\n",
      "-0.43298594 -0.02429262 -0.09934759\n",
      "-0.43298594 -0.02429262 -0.09934759\n",
      "-0.43298595 -0.02429262 -0.09934759\n",
      "-0.43298601 -0.02429262 -0.09934758\n",
      "-0.43298599 -0.02429262 -0.09934757\n",
      "+0.70592922 +0.04386864 -0.04579593\n",
      "-0.26551215 -0.01616321 -0.03189222\n",
      "+0.17190741 +0.01023665 -0.00992678\n",
      "-0.04648625 -0.00305633 +0.00237807\n",
      "-0.00669915 -0.00042316 +0.00046644\n",
      "+0.00022090 +0.00001450 -0.00001070\n",
      "-0.00000228 -0.00000015 +0.00000028\n",
      "-0.00000020 -0.00000001 +0.00000001\n",
      "+0.00000003 +0.00000000 -0.00000000\n",
      "-0.00000000 -0.00000000 +0.00000000\n",
      "0 9.867662242868391e-13 1.4863110742169283e-14\n",
      "converged: v_err=9.867662242868391e-13, z_err=1.4863110742169283e-14\n",
      "0 1.0020873020266663e-12\n",
      "converged: F_err=9.998113448261847e-13\n"
     ]
    },
    {
     "data": {
      "text/plain": [
       "{'e': 0.09704725185022452, 'g': 0.08559311063077112, 'w': 0.9440241341327339}"
      ]
     },
     "execution_count": 4,
     "metadata": {},
     "output_type": "execute_result"
    }
   ],
   "source": [
    "m = br.Model()\n",
    "m.solve()"
   ]
  },
  {
   "cell_type": "code",
   "execution_count": 5,
   "metadata": {},
   "outputs": [
    {
     "data": {
      "image/png": "[encoded data removed]",
      "text/plain": [
       "<Figure size 432x288 with 1 Axes>"
      ]
     },
     "metadata": {
      "needs_background": "light"
     },
     "output_type": "display_data"
    }
   ],
   "source": [
    "plt.plot(m.q_grid, m.z_grow-m.g);"
   ]
  },
  {
   "cell_type": "code",
   "execution_count": 6,
   "metadata": {},
   "outputs": [
    {
     "data": {
      "image/png": "[encoded data removed]",
      "text/plain": [
       "<Figure size 432x288 with 1 Axes>"
      ]
     },
     "metadata": {
      "needs_background": "light"
     },
     "output_type": "display_data"
    }
   ],
   "source": [
    "plt.plot(m.q_grid, m.q_dist);"
   ]
  },
  {
   "cell_type": "code",
   "execution_count": 7,
   "metadata": {},
   "outputs": [
    {
     "name": "stdout",
     "output_type": "stream",
     "text": [
      "10009 10000\n"
     ]
    }
   ],
   "source": [
    "eps = 1e-6\n",
    "panel = m.simulate()\n",
    "panel = panel[np.modf(panel['date']+eps)[0]<1e-3]\n",
    "panel['date'] = np.floor(panel['date']+eps).astype(np.int)"
   ]
  },
  {
   "cell_type": "code",
   "execution_count": 8,
   "metadata": {},
   "outputs": [
    {
     "data": {
      "text/html": [
       "<div>\n",
       "<style scoped>\n",
       "    .dataframe tbody tr th:only-of-type {\n",
       "        vertical-align: middle;\n",
       "    }\n",
       "\n",
       "    .dataframe tbody tr th {\n",
       "        vertical-align: top;\n",
       "    }\n",
       "\n",
       "    .dataframe thead th {\n",
       "        text-align: right;\n",
       "    }\n",
       "</style>\n",
       "<table border=\"1\" class=\"dataframe\">\n",
       "  <thead>\n",
       "    <tr style=\"text-align: right;\">\n",
       "      <th></th>\n",
       "      <th>qual</th>\n",
       "      <th>revenue</th>\n",
       "      <th>wages</th>\n",
       "      <th>rnd</th>\n",
       "      <th>employ</th>\n",
       "      <th>profit</th>\n",
       "      <th>products</th>\n",
       "      <th>date</th>\n",
       "      <th>firm_id</th>\n",
       "    </tr>\n",
       "  </thead>\n",
       "  <tbody>\n",
       "    <tr>\n",
       "      <th>count</th>\n",
       "      <td>349288.000000</td>\n",
       "      <td>349288.000000</td>\n",
       "      <td>349288.000000</td>\n",
       "      <td>349288.000000</td>\n",
       "      <td>349288.000000</td>\n",
       "      <td>349288.000000</td>\n",
       "      <td>349288.000000</td>\n",
       "      <td>349288.000000</td>\n",
       "      <td>349288.000000</td>\n",
       "    </tr>\n",
       "    <tr>\n",
       "      <th>mean</th>\n",
       "      <td>1.393992</td>\n",
       "      <td>1.420879</td>\n",
       "      <td>0.994615</td>\n",
       "      <td>0.152032</td>\n",
       "      <td>1.053591</td>\n",
       "      <td>0.274231</td>\n",
       "      <td>1.431483</td>\n",
       "      <td>24.493289</td>\n",
       "      <td>23434.657403</td>\n",
       "    </tr>\n",
       "    <tr>\n",
       "      <th>std</th>\n",
       "      <td>0.884309</td>\n",
       "      <td>1.021526</td>\n",
       "      <td>0.715068</td>\n",
       "      <td>0.096847</td>\n",
       "      <td>0.757468</td>\n",
       "      <td>0.215037</td>\n",
       "      <td>0.879851</td>\n",
       "      <td>14.444202</td>\n",
       "      <td>14794.917103</td>\n",
       "    </tr>\n",
       "    <tr>\n",
       "      <th>min</th>\n",
       "      <td>0.376412</td>\n",
       "      <td>0.102301</td>\n",
       "      <td>0.071611</td>\n",
       "      <td>0.060977</td>\n",
       "      <td>0.075857</td>\n",
       "      <td>-0.030287</td>\n",
       "      <td>1.000000</td>\n",
       "      <td>0.000000</td>\n",
       "      <td>0.000000</td>\n",
       "    </tr>\n",
       "    <tr>\n",
       "      <th>25%</th>\n",
       "      <td>0.890990</td>\n",
       "      <td>0.762986</td>\n",
       "      <td>0.534090</td>\n",
       "      <td>0.095303</td>\n",
       "      <td>0.565759</td>\n",
       "      <td>0.132491</td>\n",
       "      <td>1.000000</td>\n",
       "      <td>12.000000</td>\n",
       "      <td>10424.000000</td>\n",
       "    </tr>\n",
       "    <tr>\n",
       "      <th>50%</th>\n",
       "      <td>1.057155</td>\n",
       "      <td>1.119810</td>\n",
       "      <td>0.783867</td>\n",
       "      <td>0.113566</td>\n",
       "      <td>0.830347</td>\n",
       "      <td>0.216750</td>\n",
       "      <td>1.000000</td>\n",
       "      <td>24.000000</td>\n",
       "      <td>22796.000000</td>\n",
       "    </tr>\n",
       "    <tr>\n",
       "      <th>75%</th>\n",
       "      <td>1.667745</td>\n",
       "      <td>1.739723</td>\n",
       "      <td>1.217806</td>\n",
       "      <td>0.182662</td>\n",
       "      <td>1.290016</td>\n",
       "      <td>0.349621</td>\n",
       "      <td>2.000000</td>\n",
       "      <td>37.000000</td>\n",
       "      <td>35599.000000</td>\n",
       "    </tr>\n",
       "    <tr>\n",
       "      <th>max</th>\n",
       "      <td>14.046933</td>\n",
       "      <td>15.305834</td>\n",
       "      <td>10.714084</td>\n",
       "      <td>1.563903</td>\n",
       "      <td>11.349375</td>\n",
       "      <td>3.098017</td>\n",
       "      <td>15.000000</td>\n",
       "      <td>49.000000</td>\n",
       "      <td>54396.000000</td>\n",
       "    </tr>\n",
       "  </tbody>\n",
       "</table>\n",
       "</div>"
      ],
      "text/plain": [
       "                qual        revenue          wages            rnd  \\\n",
       "count  349288.000000  349288.000000  349288.000000  349288.000000   \n",
       "mean        1.393992       1.420879       0.994615       0.152032   \n",
       "std         0.884309       1.021526       0.715068       0.096847   \n",
       "min         0.376412       0.102301       0.071611       0.060977   \n",
       "25%         0.890990       0.762986       0.534090       0.095303   \n",
       "50%         1.057155       1.119810       0.783867       0.113566   \n",
       "75%         1.667745       1.739723       1.217806       0.182662   \n",
       "max        14.046933      15.305834      10.714084       1.563903   \n",
       "\n",
       "              employ         profit       products           date  \\\n",
       "count  349288.000000  349288.000000  349288.000000  349288.000000   \n",
       "mean        1.053591       0.274231       1.431483      24.493289   \n",
       "std         0.757468       0.215037       0.879851      14.444202   \n",
       "min         0.075857      -0.030287       1.000000       0.000000   \n",
       "25%         0.565759       0.132491       1.000000      12.000000   \n",
       "50%         0.830347       0.216750       1.000000      24.000000   \n",
       "75%         1.290016       0.349621       2.000000      37.000000   \n",
       "max        11.349375       3.098017      15.000000      49.000000   \n",
       "\n",
       "             firm_id  \n",
       "count  349288.000000  \n",
       "mean    23434.657403  \n",
       "std     14794.917103  \n",
       "min         0.000000  \n",
       "25%     10424.000000  \n",
       "50%     22796.000000  \n",
       "75%     35599.000000  \n",
       "max     54396.000000  "
      ]
     },
     "execution_count": 8,
     "metadata": {},
     "output_type": "execute_result"
    }
   ],
   "source": [
    "panel.describe()"
   ]
  },
  {
   "cell_type": "code",
   "execution_count": 9,
   "metadata": {},
   "outputs": [
    {
     "data": {
      "image/png": "[encoded data removed]",
      "text/plain": [
       "<Figure size 432x288 with 1 Axes>"
      ]
     },
     "metadata": {
      "needs_background": "light"
     },
     "output_type": "display_data"
    }
   ],
   "source": [
    "fgrp = panel.groupby('firm_id')['date']\n",
    "age = fgrp.max() - fgrp.min()\n",
    "age.hist(grid=False);"
   ]
  },
  {
   "cell_type": "code",
   "execution_count": 10,
   "metadata": {},
   "outputs": [],
   "source": [
    "fuzz = m.fuzz(panel)\n",
    "fuzz['year'] = 1970 + fuzz['date']"
   ]
  },
  {
   "cell_type": "code",
   "execution_count": 11,
   "metadata": {},
   "outputs": [
    {
     "data": {
      "text/html": [
       "<div>\n",
       "<style scoped>\n",
       "    .dataframe tbody tr th:only-of-type {\n",
       "        vertical-align: middle;\n",
       "    }\n",
       "\n",
       "    .dataframe tbody tr th {\n",
       "        vertical-align: top;\n",
       "    }\n",
       "\n",
       "    .dataframe thead th {\n",
       "        text-align: right;\n",
       "    }\n",
       "</style>\n",
       "<table border=\"1\" class=\"dataframe\">\n",
       "  <thead>\n",
       "    <tr style=\"text-align: right;\">\n",
       "      <th></th>\n",
       "      <th>qual</th>\n",
       "      <th>revenue</th>\n",
       "      <th>wages</th>\n",
       "      <th>rnd</th>\n",
       "      <th>employ</th>\n",
       "      <th>profit</th>\n",
       "      <th>products</th>\n",
       "      <th>date</th>\n",
       "      <th>firm_id</th>\n",
       "      <th>year</th>\n",
       "    </tr>\n",
       "  </thead>\n",
       "  <tbody>\n",
       "    <tr>\n",
       "      <th>count</th>\n",
       "      <td>349288.000000</td>\n",
       "      <td>349288.000000</td>\n",
       "      <td>349288.000000</td>\n",
       "      <td>349288.000000</td>\n",
       "      <td>349288.000000</td>\n",
       "      <td>349288.000000</td>\n",
       "      <td>349288.000000</td>\n",
       "      <td>349288.000000</td>\n",
       "      <td>349288.000000</td>\n",
       "      <td>349288.000000</td>\n",
       "    </tr>\n",
       "    <tr>\n",
       "      <th>mean</th>\n",
       "      <td>1.393992</td>\n",
       "      <td>1.442724</td>\n",
       "      <td>1.015653</td>\n",
       "      <td>0.160768</td>\n",
       "      <td>1.074846</td>\n",
       "      <td>0.287645</td>\n",
       "      <td>1.431483</td>\n",
       "      <td>24.493289</td>\n",
       "      <td>23434.657403</td>\n",
       "      <td>1994.493289</td>\n",
       "    </tr>\n",
       "    <tr>\n",
       "      <th>std</th>\n",
       "      <td>0.884309</td>\n",
       "      <td>1.026736</td>\n",
       "      <td>0.718422</td>\n",
       "      <td>0.099665</td>\n",
       "      <td>0.761401</td>\n",
       "      <td>0.219724</td>\n",
       "      <td>0.879851</td>\n",
       "      <td>14.444202</td>\n",
       "      <td>14794.917103</td>\n",
       "      <td>14.444202</td>\n",
       "    </tr>\n",
       "    <tr>\n",
       "      <th>min</th>\n",
       "      <td>0.376412</td>\n",
       "      <td>0.107107</td>\n",
       "      <td>0.072905</td>\n",
       "      <td>0.050018</td>\n",
       "      <td>0.078884</td>\n",
       "      <td>-0.036680</td>\n",
       "      <td>1.000000</td>\n",
       "      <td>0.000000</td>\n",
       "      <td>0.000000</td>\n",
       "      <td>1970.000000</td>\n",
       "    </tr>\n",
       "    <tr>\n",
       "      <th>25%</th>\n",
       "      <td>0.890990</td>\n",
       "      <td>0.781706</td>\n",
       "      <td>0.553609</td>\n",
       "      <td>0.101377</td>\n",
       "      <td>0.584999</td>\n",
       "      <td>0.143573</td>\n",
       "      <td>1.000000</td>\n",
       "      <td>12.000000</td>\n",
       "      <td>10424.000000</td>\n",
       "      <td>1982.000000</td>\n",
       "    </tr>\n",
       "    <tr>\n",
       "      <th>50%</th>\n",
       "      <td>1.057155</td>\n",
       "      <td>1.140537</td>\n",
       "      <td>0.804974</td>\n",
       "      <td>0.124637</td>\n",
       "      <td>0.851842</td>\n",
       "      <td>0.229398</td>\n",
       "      <td>1.000000</td>\n",
       "      <td>24.000000</td>\n",
       "      <td>22796.000000</td>\n",
       "      <td>1994.000000</td>\n",
       "    </tr>\n",
       "    <tr>\n",
       "      <th>75%</th>\n",
       "      <td>1.667745</td>\n",
       "      <td>1.763097</td>\n",
       "      <td>1.240731</td>\n",
       "      <td>0.187218</td>\n",
       "      <td>1.313126</td>\n",
       "      <td>0.364079</td>\n",
       "      <td>2.000000</td>\n",
       "      <td>37.000000</td>\n",
       "      <td>35599.000000</td>\n",
       "      <td>2007.000000</td>\n",
       "    </tr>\n",
       "    <tr>\n",
       "      <th>max</th>\n",
       "      <td>14.046933</td>\n",
       "      <td>16.360422</td>\n",
       "      <td>10.531047</td>\n",
       "      <td>1.585133</td>\n",
       "      <td>11.975279</td>\n",
       "      <td>3.230671</td>\n",
       "      <td>15.000000</td>\n",
       "      <td>49.000000</td>\n",
       "      <td>54396.000000</td>\n",
       "      <td>2019.000000</td>\n",
       "    </tr>\n",
       "  </tbody>\n",
       "</table>\n",
       "</div>"
      ],
      "text/plain": [
       "                qual        revenue          wages            rnd  \\\n",
       "count  349288.000000  349288.000000  349288.000000  349288.000000   \n",
       "mean        1.393992       1.442724       1.015653       0.160768   \n",
       "std         0.884309       1.026736       0.718422       0.099665   \n",
       "min         0.376412       0.107107       0.072905       0.050018   \n",
       "25%         0.890990       0.781706       0.553609       0.101377   \n",
       "50%         1.057155       1.140537       0.804974       0.124637   \n",
       "75%         1.667745       1.763097       1.240731       0.187218   \n",
       "max        14.046933      16.360422      10.531047       1.585133   \n",
       "\n",
       "              employ         profit       products           date  \\\n",
       "count  349288.000000  349288.000000  349288.000000  349288.000000   \n",
       "mean        1.074846       0.287645       1.431483      24.493289   \n",
       "std         0.761401       0.219724       0.879851      14.444202   \n",
       "min         0.078884      -0.036680       1.000000       0.000000   \n",
       "25%         0.584999       0.143573       1.000000      12.000000   \n",
       "50%         0.851842       0.229398       1.000000      24.000000   \n",
       "75%         1.313126       0.364079       2.000000      37.000000   \n",
       "max        11.975279       3.230671      15.000000      49.000000   \n",
       "\n",
       "             firm_id           year  \n",
       "count  349288.000000  349288.000000  \n",
       "mean    23434.657403    1994.493289  \n",
       "std     14794.917103      14.444202  \n",
       "min         0.000000    1970.000000  \n",
       "25%     10424.000000    1982.000000  \n",
       "50%     22796.000000    1994.000000  \n",
       "75%     35599.000000    2007.000000  \n",
       "max     54396.000000    2019.000000  "
      ]
     },
     "execution_count": 11,
     "metadata": {},
     "output_type": "execute_result"
    }
   ],
   "source": [
    "fuzz.describe()"
   ]
  },
  {
   "cell_type": "code",
   "execution_count": 12,
   "metadata": {},
   "outputs": [],
   "source": [
    "panel1 = lag_merge(panel, 'date', id_vars=['firm_id'])"
   ]
  },
  {
   "cell_type": "code",
   "execution_count": 13,
   "metadata": {},
   "outputs": [],
   "source": [
    "fuzz1 = lag_merge(fuzz, 'date', id_vars=['firm_id'])"
   ]
  },
  {
   "cell_type": "code",
   "execution_count": 14,
   "metadata": {},
   "outputs": [
    {
     "data": {
      "image/png": "[encoded data removed]",
      "text/plain": [
       "<Figure size 720x288 with 2 Axes>"
      ]
     },
     "metadata": {
      "needs_background": "light"
     },
     "output_type": "display_data"
    }
   ],
   "source": [
    "fig, (ax0, ax1) = plt.subplots(ncols=2, figsize=(10, 4))\n",
    "(noinf(panel1['revenue']/panel1['revenue_prev']).dropna()-1).hist(range=(-0.5, 0.5), grid=False, ax=ax0);\n",
    "(noinf(fuzz1['revenue']/fuzz1['revenue_prev']).dropna()-1).hist(range=(-0.5, 0.5), grid=False, ax=ax1);"
   ]
  },
  {
   "cell_type": "code",
   "execution_count": 15,
   "metadata": {},
   "outputs": [
    {
     "data": {
      "image/png": "[encoded data removed]",
      "text/plain": [
       "<Figure size 720x288 with 2 Axes>"
      ]
     },
     "metadata": {
      "needs_background": "light"
     },
     "output_type": "display_data"
    }
   ],
   "source": [
    "fig, (ax0, ax1) = plt.subplots(ncols=2, figsize=(10, 4))\n",
    "(panel1['profit']/panel1['revenue']).dropna().hist(range=(-0.1, 0.4), grid=False, ax=ax0);\n",
    "(fuzz1['profit']/fuzz1['revenue']).dropna().hist(range=(-0.1, 0.4), grid=False, ax=ax1);"
   ]
  },
  {
   "cell_type": "code",
   "execution_count": 16,
   "metadata": {},
   "outputs": [
    {
     "name": "stdout",
     "output_type": "stream",
     "text": [
      "0\n"
     ]
    },
    {
     "data": {
      "image/png": "[encoded data removed]",
      "text/plain": [
       "<Figure size 432x288 with 1 Axes>"
      ]
     },
     "metadata": {
      "needs_background": "light"
     },
     "output_type": "display_data"
    }
   ],
   "source": [
    "fgrp = fuzz.groupby('firm_id')['year']\n",
    "age = fgrp.max() - fgrp.min() + 1\n",
    "dur = fgrp.size()\n",
    "print(np.max(np.abs(age-dur)))\n",
    "age.hist(grid=False);"
   ]
  },
  {
   "cell_type": "code",
   "execution_count": 17,
   "metadata": {},
   "outputs": [
    {
     "data": {
      "image/png": "[encoded data removed]",
      "text/plain": [
       "<Figure size 432x288 with 1 Axes>"
      ]
     },
     "metadata": {
      "needs_background": "light"
     },
     "output_type": "display_data"
    }
   ],
   "source": [
    "big = fuzz.groupby('firm_id').size().idxmax()\n",
    "fbig = fuzz.query(f'firm_id == {big}').set_index('date')\n",
    "fbig['profit'].plot();"
   ]
  },
  {
   "cell_type": "code",
   "execution_count": 18,
   "metadata": {},
   "outputs": [],
   "source": [
    "fuzz[['firm_id', 'year', 'revenue', 'employ', 'wages', 'rnd', 'profit']].to_csv('battle_royale.csv', index=False)"
   ]
  },
  {
   "cell_type": "code",
   "execution_count": null,
   "metadata": {},
   "outputs": [],
   "source": []
  }
 ],
 "metadata": {
  "kernelspec": {
   "display_name": "Python 3.8",
   "language": "python",
   "name": "python3.8"
  },
  "language_info": {
   "codemirror_mode": {
    "name": "ipython",
    "version": 3
   },
   "file_extension": ".py",
   "mimetype": "text/x-python",
   "name": "python",
   "nbconvert_exporter": "python",
   "pygments_lexer": "ipython3",
   "version": "3.8.4"
  }
 },
 "nbformat": 4,
 "nbformat_minor": 4
}
